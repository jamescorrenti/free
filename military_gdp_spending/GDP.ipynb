{
 "cells": [
  {
   "cell_type": "code",
   "execution_count": 335,
   "metadata": {
    "collapsed": true
   },
   "outputs": [],
   "source": [
    "from xlrd import open_workbook # work with excel"
   ]
  },
  {
   "cell_type": "code",
   "execution_count": 336,
   "metadata": {
    "collapsed": true
   },
   "outputs": [],
   "source": [
    "wb = open_workbook('SIPRI-Milex-data-1949-2016.xlsx') # open data"
   ]
  },
  {
   "cell_type": "code",
   "execution_count": 337,
   "metadata": {
    "collapsed": false
   },
   "outputs": [],
   "source": [
    "sheet_mil_spending_usd = wb.sheet_by_name('Constant (2015) USD') # select first sheet with totals for money used"
   ]
  },
  {
   "cell_type": "code",
   "execution_count": 350,
   "metadata": {
    "collapsed": false
   },
   "outputs": [],
   "source": [
    "values = {} # values for spending for every country\n",
    "for row in range(7, sheet_mil_spending_usd.nrows): # iterate through every country\n",
    "    country = sheet_mil_spending_usd.row(row) \n",
    "    if isinstance(country[70].value, float): # this will skip countries that have .. instead of an number, not major issue\n",
    "        twelve = country[66].value if isinstance(country[66].value, float) else 0 # 2012 states, if they exist\n",
    "        thirteen = country[67].value if isinstance(country[67].value, float) else 0 # 2013 states, if they exist\n",
    "        fourteen = country[68].value if isinstance(country[68].value, float) else 0 # 2014 states, if they exist\n",
    "        fifteen = country[69].value if isinstance(country[69].value, float) else 0 # 2015  states, if they exist\n",
    "        sixteen = country[70].value if isinstance(country[70].value, float) else 0 # 2016 states, if they exist\n",
    "        values[country[0].value] = {'12': twelve,\n",
    "                                    '13': thirteen,\n",
    "                                    '14': fourteen,\n",
    "                                    '15': fifteen,\n",
    "                                    '16': sixteen, \n",
    "                                    'sum': twelve + thirteen + fourteen + fifteen + sixteen}"
   ]
  },
  {
   "cell_type": "code",
   "execution_count": 339,
   "metadata": {
    "collapsed": false
   },
   "outputs": [],
   "source": [
    "top_ten = [] # top ten countries\n",
    "for key in values:\n",
    "    if len(top_ten) < 10:\n",
    "        top_ten.append((key, values[key]['sum']))\n",
    "    else:\n",
    "        top_ten.sort(key=lambda x: x[1]) # sorts list from smallest spent to largest spent\n",
    "        if top_ten[0][1] < values[key]['sum']: # remove the smallest number if the next row is larges\n",
    "            top_ten.remove(top_ten[0])\n",
    "            top_ten.append((key, values[key]['sum']))\n",
    "top_ten.reverse() # resorts the list from largest to smallest        "
   ]
  },
  {
   "cell_type": "code",
   "execution_count": 340,
   "metadata": {
    "collapsed": false
   },
   "outputs": [],
   "source": [
    "share_gdp_sheet = wb.sheet_by_name('Share of GDP')"
   ]
  },
  {
   "cell_type": "code",
   "execution_count": 341,
   "metadata": {
    "collapsed": false
   },
   "outputs": [],
   "source": [
    "top_ten_gdp = []\n",
    "top_ten_growth_percentage_gdp = []\n",
    "for c in top_ten:\n",
    "    for row in range(share_gdp_sheet.nrows):\n",
    "        if share_gdp_sheet.row(row)[0].value == c[0]:\n",
    "            gdp = share_gdp_sheet.row(row)[65].value + share_gdp_sheet.row(row)[66].value + share_gdp_sheet.row(row)[67].value + share_gdp_sheet.row(row)[68].value + share_gdp_sheet.row(row)[69].value   \n",
    "            top_ten_gdp.append((c[0], gdp / 5 * 100))\n",
    "            top_ten_growth_percentage_gdp.append((c[0], (share_gdp_sheet.row(row)[69].value - share_gdp_sheet.row(row)[65].value) * 100)) \n",
    "top_ten_growth_percentage_gdp.sort(key=lambda x: x[1], reverse=True)\n",
    "top_ten_gdp.sort(key=lambda x: x[1], reverse=True)"
   ]
  },
  {
   "cell_type": "code",
   "execution_count": 342,
   "metadata": {
    "collapsed": true
   },
   "outputs": [],
   "source": [
    "spending_per_capita_sheet = wb.sheet_by_name('Per capita')"
   ]
  },
  {
   "cell_type": "code",
   "execution_count": 343,
   "metadata": {
    "collapsed": false
   },
   "outputs": [],
   "source": [
    "top_ten_per_capita = []\n",
    "for c in top_ten:\n",
    "    for row in range(spending_per_capita_sheet.nrows):\n",
    "        if spending_per_capita_sheet.row(row)[0].value == c[0]:\n",
    "            capita = spending_per_capita_sheet.row(row)[26].value + spending_per_capita_sheet.row(row)[27].value + spending_per_capita_sheet.row(row)[28].value + spending_per_capita_sheet.row(row)[29].value + spending_per_capita_sheet.row(row)[30].value   \n",
    "            top_ten_per_capita.append((c[0], capita))\n",
    "top_ten_per_capita.sort(key=lambda x: x[1], reverse=True)"
   ]
  },
  {
   "cell_type": "code",
   "execution_count": 344,
   "metadata": {
    "collapsed": false
   },
   "outputs": [],
   "source": [
    "top_ten_growth = []\n",
    "for t in top_ten:\n",
    "    top_ten_growth.append((t[0], values[t[0]]['15'] - values[t[0]]['12']))\n",
    "top_ten_growth.sort(key=lambda x: x[1], reverse=True)"
   ]
  },
  {
   "cell_type": "code",
   "execution_count": 345,
   "metadata": {
    "collapsed": false
   },
   "outputs": [
    {
     "data": {
      "text/plain": [
       "[(u'USA', 3170648.3633036735),\n",
       " (u'China, P.R.', 995254.5572285376),\n",
       " (u'Saudi Arabia', 362735.8886684909),\n",
       " (u'Russian Federation', 310718.3260747314),\n",
       " (u'UK', 278322.0489754412),\n",
       " (u'France', 269188.2251763644),\n",
       " (u'India', 254987.57796580563),\n",
       " (u'Japan', 205885.00450914158),\n",
       " (u'Germany', 199408.18669694697),\n",
       " (u'Korea, South', 175439.7214440548)]"
      ]
     },
     "execution_count": 345,
     "metadata": {},
     "output_type": "execute_result"
    }
   ],
   "source": [
    "top_ten # top ten countries total defense spending over the last 5 years"
   ]
  },
  {
   "cell_type": "code",
   "execution_count": 346,
   "metadata": {
    "collapsed": false
   },
   "outputs": [
    {
     "data": {
      "text/plain": [
       "[(u'Saudi Arabia', 10.265011104384335),\n",
       " (u'Russian Federation', 4.586863363230355),\n",
       " (u'USA', 3.6350020846882916),\n",
       " (u'Korea, South', 2.636705169694753),\n",
       " (u'India', 2.48229930375851),\n",
       " (u'France', 2.2520300301585325),\n",
       " (u'UK', 2.023256387688268),\n",
       " (u'China, P.R.', 1.9084533576845624),\n",
       " (u'Germany', 1.2242544531448663),\n",
       " (u'Japan', 0.9978283248832792)]"
      ]
     },
     "execution_count": 346,
     "metadata": {},
     "output_type": "execute_result"
    }
   ],
   "source": [
    "top_ten_gdp # Top ten counties in total defense spending, sorted by % defense spending of GDP"
   ]
  },
  {
   "cell_type": "code",
   "execution_count": 347,
   "metadata": {
    "collapsed": false
   },
   "outputs": [
    {
     "data": {
      "text/plain": [
       "[(u'Saudi Arabia', 11491.826796612295),\n",
       " (u'USA', 9840.117071985165),\n",
       " (u'France', 4636.010667530175),\n",
       " (u'UK', 4302.772644198498),\n",
       " (u'Korea, South', 3531.0888862080697),\n",
       " (u'Germany', 2721.9414225060355),\n",
       " (u'Japan', 1916.0022217911703),\n",
       " (u'China, P.R.', 706.0819086588518),\n",
       " (u'India', 194.9886994487237)]"
      ]
     },
     "execution_count": 347,
     "metadata": {},
     "output_type": "execute_result"
    }
   ],
   "source": [
    "top_ten_per_capita # Top ten counties in total defense spending, sorted by per capita spending"
   ]
  },
  {
   "cell_type": "code",
   "execution_count": 348,
   "metadata": {
    "collapsed": false
   },
   "outputs": [
    {
     "data": {
      "text/plain": [
       "[(u'China, P.R.', 44711.132023491315),\n",
       " (u'Saudi Arabia', 25833.579892105372),\n",
       " (u'Russian Federation', 11586.266448195885),\n",
       " (u'Korea, South', 3556.3940917609434),\n",
       " (u'France', 2790.6939626348176),\n",
       " (u'India', 2491.4155801613088),\n",
       " (u'Japan', -11.009208858100465),\n",
       " (u'Germany', -1367.2845043571506),\n",
       " (u'UK', -5033.882384122997),\n",
       " (u'USA', -110908.71314941358)]"
      ]
     },
     "execution_count": 348,
     "metadata": {},
     "output_type": "execute_result"
    }
   ],
   "source": [
    "top_ten_growth # Top ten counties in total defense spending, sorted by total growth in last five years"
   ]
  },
  {
   "cell_type": "code",
   "execution_count": 349,
   "metadata": {
    "collapsed": false
   },
   "outputs": [
    {
     "data": {
      "text/plain": [
       "[(u'Saudi Arabia', 2.715803171445555),\n",
       " (u'Russian Federation', 1.3239701444082623),\n",
       " (u'China, P.R.', 0.07403611711662116),\n",
       " (u'Korea, South', 0.04026546961487486),\n",
       " (u'France', 0.03377834991629136),\n",
       " (u'Japan', -0.018878809072429142),\n",
       " (u'India', -0.03563093442147357),\n",
       " (u'Germany', -0.12471425097721825),\n",
       " (u'UK', -0.3784508790008856),\n",
       " (u'USA', -0.9460394709543727)]"
      ]
     },
     "execution_count": 349,
     "metadata": {},
     "output_type": "execute_result"
    }
   ],
   "source": [
    "top_ten_growth_percentage_gdp # Top ten counties in total defense spending, sorted by change in GDP percentage"
   ]
  }
 ],
 "metadata": {
  "anaconda-cloud": {},
  "kernelspec": {
   "display_name": "Python [conda root]",
   "language": "python",
   "name": "conda-root-py"
  },
  "language_info": {
   "codemirror_mode": {
    "name": "ipython",
    "version": 2
   },
   "file_extension": ".py",
   "mimetype": "text/x-python",
   "name": "python",
   "nbconvert_exporter": "python",
   "pygments_lexer": "ipython2",
   "version": "2.7.12"
  }
 },
 "nbformat": 4,
 "nbformat_minor": 1
}
